{
 "cells": [
  {
   "cell_type": "markdown",
   "metadata": {},
   "source": [
    "# -----------------------------------------\n",
    "# Python: Exercise-1,2 and 3\n",
    "# -----------------------------------------"
   ]
  },
  {
   "cell_type": "markdown",
   "metadata": {},
   "source": [
    "## Question No. 1: The distance travelled by a ball falling in the air is given by the equation $x = x_0 + v_0 t + 0.5at^2$. Calculate the position of the ball at time t = 5 seconds if $x_0 = 10 ~meters~, v_0 = 15~ m/s ~and~ a = -9.8 ~m/s^2$"
   ]
  },
  {
   "cell_type": "markdown",
   "metadata": {},
   "source": [
    "## Solution:"
   ]
  },
  {
   "cell_type": "code",
   "execution_count": 1,
   "metadata": {},
   "outputs": [
    {
     "name": "stdout",
     "output_type": "stream",
     "text": [
      "Distance travelled x =  -37.625\n"
     ]
    }
   ],
   "source": [
    "x0 = 10 # Initial position (meters)\n",
    "v0 = 15 #  Initial velocity (m/s)\n",
    "a = -9.81 # Acceleration (m/s^2)\n",
    "t = 5 # Time (seconds)\n",
    "\n",
    "# Calculate distance travelled by fall bass in the air in 5 secodns\n",
    "\n",
    "x = x0 + v0*t + 0.5*a*t**2\n",
    "print('Distance travelled x = ', x)\n",
    "\n"
   ]
  },
  {
   "cell_type": "markdown",
   "metadata": {},
   "source": [
    "## Question No. 2: (Exponential and Logarithm) The matheamtical quantities $e^x, \\ln x ~and~ \\log x$ are calcualted with $exp(x), log(x),~and~log10(x)$ respectively. Calcualte the follwing values:\n",
    "### - $e^2, e^{\\pi\\sqrt{163}}, \\log10(e^2)~and~\\log10(10^5)$\n",
    "### - The solution of the equation $3^x = 17$ is given by $x=\\frac{\\ln17}{\\ln3}$. Calculate $x$."
   ]
  },
  {
   "cell_type": "markdown",
   "metadata": {},
   "source": [
    "# Solution:"
   ]
  },
  {
   "cell_type": "code",
   "execution_count": 2,
   "metadata": {},
   "outputs": [
    {
     "name": "stdout",
     "output_type": "stream",
     "text": [
      "e^2 =  7.38905609893065\n",
      "e^(pi*sqrt(163)) =  2.6253741264076826e+17\n",
      "log10(e^2) =  0.8685889638065036\n",
      "log10(10^5) =  5.0\n",
      "ln17/ln3 =  2.5789019231625656\n"
     ]
    }
   ],
   "source": [
    "import math\n",
    "# ------------------------\n",
    "Expression1 = math.exp(2)\n",
    "print('e^2 = ',Expression1)\n",
    "#-------------------------\n",
    "\n",
    "Expression2 = math.exp(math.pi*math.sqrt(163))\n",
    "print('e^(pi*sqrt(163)) = ',Expression2)\n",
    "#-------------------------\n",
    "\n",
    "Expression3 = math.log10(math.exp(2))\n",
    "print('log10(e^2) = ',Expression3)\n",
    "#-------------------------\n",
    "\n",
    "Expression4 = math.log10(10**5)\n",
    "print('log10(10^5) = ',Expression4)\n",
    "#-------------------------\n",
    "\n",
    "x = math.log(17)/math.log(3)\n",
    "print('ln17/ln3 = ',x)\n",
    "#-------------------------"
   ]
  },
  {
   "cell_type": "markdown",
   "metadata": {},
   "source": [
    "## Question No. 3: (Temperature Conversion) The temperature conversion relation between Celsius (C) and Fahrenheit (F) is given by $F = \\frac{9}{5}C + 32$. Make a user defined function for computing temperature in Fahrenheit for a given temperature in Celsius."
   ]
  },
  {
   "cell_type": "markdown",
   "metadata": {},
   "source": [
    "## Solution:"
   ]
  },
  {
   "cell_type": "code",
   "execution_count": 3,
   "metadata": {},
   "outputs": [
    {
     "name": "stdout",
     "output_type": "stream",
     "text": [
      "37.00 Degree Celsius = 98.60 Fahrenheit\n"
     ]
    }
   ],
   "source": [
    "# We design user-defined function for Temperature Converstion\n",
    "# This function converts temperature in Degree Celsius into Fahrenheit\n",
    "# Notations: \n",
    "#           Input: C-> Celsius,\n",
    "#           Output: F-> Fahrenheit\n",
    "def Celsius2Fahrenheit(C):\n",
    "    F  = 9.0/5.0*C + 32\n",
    "    return F\n",
    "\n",
    "# Example\n",
    "C = 37\n",
    "F = Celsius2Fahrenheit(C)\n",
    "print('%5.2f Degree Celsius = %5.2f Fahrenheit'%(C, F))"
   ]
  },
  {
   "cell_type": "markdown",
   "metadata": {},
   "source": [
    "## Question No. 4: (Compute the growth of money in a bank) Let p be a bank's interest rate in percent per year. An initial amount A has then grown to $A(1+\\frac{p}{100})^n$ after n years. Make a program for computing how much money 1000 Euros have grown to after three years with 5 percent interest rate."
   ]
  },
  {
   "cell_type": "markdown",
   "metadata": {},
   "source": [
    "## Solutions:"
   ]
  },
  {
   "cell_type": "code",
   "execution_count": 4,
   "metadata": {},
   "outputs": [
    {
     "name": "stdout",
     "output_type": "stream",
     "text": [
      "The money in the bank after 3 years is  1157.63 Euros\n"
     ]
    }
   ],
   "source": [
    "# We design user-defined function for money in the bank\n",
    "# This function calculates the amount of money in the bank at the end of given years\n",
    "# Notations: \n",
    "#           Inputs: p-> Bank interest/year, A-> Initial Amount of Money, n-> Years\n",
    "#           Output: M-> Money in the bank after n Years\n",
    "def Money_in_Bank(A,p,n):\n",
    "    M = A*(1+p/100.0)**n\n",
    "    return M\n",
    "\n",
    "# Example: \n",
    "A = 1000 # In Euros\n",
    "p = 5 # % per year\n",
    "n = 3 # Years\n",
    "M = Money_in_Bank(A,p,n)\n",
    "print('The money in the bank after %d years is  %5.2f Euros'%(n, M))"
   ]
  },
  {
   "cell_type": "markdown",
   "metadata": {},
   "source": [
    "## Question No. 5 : Perform the following for the list: $a = [4,3,0,1 ,6, 8, 2, 9, 0, 4, 10, 1]$ \n",
    "### a.append(obj)\n",
    "### a.count(value)\n",
    "### del a[index]\n",
    "### a.extend(list)\n",
    "### a.index(value)\n",
    "### a.insert(index,obj)\n",
    "### a.pop(index)\n",
    "### a.remove(value)\n",
    "### a.reverse()\n",
    "\n"
   ]
  },
  {
   "cell_type": "markdown",
   "metadata": {},
   "source": [
    "## Solution:"
   ]
  },
  {
   "cell_type": "code",
   "execution_count": 5,
   "metadata": {},
   "outputs": [
    {
     "name": "stdout",
     "output_type": "stream",
     "text": [
      "a =  [4, 3, 0, 1, 6, 8, 2, 9, 0, 4, 10, 1, -3]\n",
      "count 4 =  2\n",
      "a =  [4, 3, 0, 1, 6, 8, 2, 9, 0, 4, 10, 1]\n",
      "a =  [4, 3, 0, 1, 6, 8, 2, 9, 0, 4, 10, 1, 'Hi', 'KU']\n",
      "index of 1 is  3\n",
      "a =  [4, 3, 'Python', 0, 1, 6, 8, 2, 9, 0, 4, 10, 1, 'Hi', 'KU']\n",
      "Hi\n",
      "a =  [4, 3, 'Python', 0, 1, 6, 8, 2, 9, 0, 4, 10, 1, 'KU']\n",
      "a = [4, 3, 'Python', 0, 6, 8, 2, 9, 0, 4, 10, 1, 'KU']\n",
      "a =  ['KU', 1, 10, 4, 0, 9, 2, 8, 6, 0, 'Python', 3, 4]\n",
      "b =  [0, 0, 1, 1, 2, 3, 4, 4, 6, 8, 9, 10]\n",
      "c =  [10, 9, 8, 6, 4, 4, 3, 2, 1, 1, 0, 0]\n"
     ]
    }
   ],
   "source": [
    "a = [4,3,0,1 ,6, 8, 2, 9, 0, 4, 10, 1]\n",
    "\n",
    "# append\n",
    "a.append(-3)\n",
    "print('a = ', a)\n",
    "# count any specific item\n",
    "print('count 4 = ', a.count(4))\n",
    "# Delete the item in the specific index\n",
    "del(a[-1])\n",
    "print('a = ', a)\n",
    "# extend\n",
    "b = ['Hi','KU']\n",
    "a.extend(b)\n",
    "print('a = ', a)\n",
    "# index\n",
    "print('index of 1 is ', a.index(1))\n",
    "# insert\n",
    "a.insert(2,'Python')\n",
    "print('a = ', a)\n",
    "# pop\n",
    "print(a.pop(-2))\n",
    "print('a = ', a)\n",
    "# remove\n",
    "a.remove(1) # removes first encounter item\n",
    "print('a =', a)\n",
    "# reverse\n",
    "a.reverse()\n",
    "print('a = ',a)\n",
    "# sorting \n",
    "b = [4,3,0,1 ,6, 8, 2, 9, 0, 4, 10, 1]\n",
    "b.sort() # sorts in ascending order\n",
    "print('b = ', b)\n",
    "# sorting\n",
    "c = [4,3,0,1 ,6, 8, 2, 9, 0, 4, 10, 1]\n",
    "c.sort(reverse = True) # sorts in descending order\n",
    "print('c = ', c)\n"
   ]
  }
 ],
 "metadata": {
  "kernelspec": {
   "display_name": "Python 3",
   "language": "python",
   "name": "python3"
  },
  "language_info": {
   "codemirror_mode": {
    "name": "ipython",
    "version": 3
   },
   "file_extension": ".py",
   "mimetype": "text/x-python",
   "name": "python",
   "nbconvert_exporter": "python",
   "pygments_lexer": "ipython3",
   "version": "3.7.6"
  }
 },
 "nbformat": 4,
 "nbformat_minor": 4
}
