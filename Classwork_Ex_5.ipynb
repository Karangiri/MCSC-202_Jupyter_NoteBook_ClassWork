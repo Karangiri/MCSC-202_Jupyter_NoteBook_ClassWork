{
 "cells": [
  {
   "cell_type": "markdown",
   "metadata": {},
   "source": [
    "# ----------------------------------\n",
    "# Python: Exercise-5\n",
    "# ----------------------------------\n",
    "## Question No. 1: Write a program for the sum of first $n$ natural numbers. "
   ]
  },
  {
   "cell_type": "markdown",
   "metadata": {},
   "source": [
    "\n",
    "# Solution:"
   ]
  },
  {
   "cell_type": "code",
   "execution_count": 1,
   "metadata": {},
   "outputs": [
    {
     "name": "stdout",
     "output_type": "stream",
     "text": [
      "Sum of 10 natural integers is 55\n"
     ]
    }
   ],
   "source": [
    "n = 10\n",
    "i = 1\n",
    "summ = 0\n",
    "while i <= n:\n",
    "    summ = summ + i\n",
    "    i = i + 1\n",
    "print('Sum of %d natural integers is %d'%(n,summ))    "
   ]
  },
  {
   "cell_type": "markdown",
   "metadata": {},
   "source": [
    "## Question No. 2: Write a program for the sum of first $n$ odd numbers. \n",
    "## Solution: "
   ]
  },
  {
   "cell_type": "code",
   "execution_count": 2,
   "metadata": {},
   "outputs": [
    {
     "name": "stdout",
     "output_type": "stream",
     "text": [
      "Sum of 11 odd positive integers is 36\n"
     ]
    }
   ],
   "source": [
    "n = 11\n",
    "i = 1\n",
    "summ = 0\n",
    "while i <= n:\n",
    "    summ = summ + i\n",
    "    i = i + 2\n",
    "print('Sum of %d odd positive integers is %d'%(n,summ))  "
   ]
  },
  {
   "cell_type": "markdown",
   "metadata": {},
   "source": [
    "## Question No. 3: Write a program for the sum of first $n$ even numbers. \n",
    "## Solution: "
   ]
  },
  {
   "cell_type": "code",
   "execution_count": 3,
   "metadata": {},
   "outputs": [
    {
     "name": "stdout",
     "output_type": "stream",
     "text": [
      "Sum of 11 even positive integers is 30\n"
     ]
    }
   ],
   "source": [
    "n = 11\n",
    "i = 2\n",
    "summ = 0\n",
    "while i <= n:\n",
    "    summ = summ + i\n",
    "    i += 2\n",
    "print('Sum of %d even positive integers is %d'%(n,summ))"
   ]
  },
  {
   "cell_type": "markdown",
   "metadata": {},
   "source": [
    "## Question No. 4: Write a program to evaluate the value of the fucntion $f(x)=x^2-3x+2$ for all values of x between  $-1$ to $-3$ with step size $0.1$. Use for loop to perform the calcualtion. Plot the resulting fucntion using a 3-point-thick dashed red line.\n",
    "## Solution: "
   ]
  },
  {
   "cell_type": "code",
   "execution_count": 4,
   "metadata": {},
   "outputs": [
    {
     "data": {
      "image/png": "[encoded data removed]",
      "text/plain": [
       "<Figure size 432x288 with 1 Axes>"
      ]
     },
     "metadata": {
      "needs_background": "light"
     },
     "output_type": "display_data"
    }
   ],
   "source": [
    "import matplotlib.pyplot as plt\n",
    "X = []\n",
    "Y = []\n",
    "x = -1\n",
    "while x <=3:\n",
    "    X.append(round(x,2))\n",
    "    Y.append(round(x**2-3*x+2,2))\n",
    "    x = x + 0.1\n",
    "plt.plot(X,Y,'r--',linewidth = 3.0)  \n",
    "plt.show()"
   ]
  },
  {
   "cell_type": "markdown",
   "metadata": {},
   "source": [
    "## Question No. 5: Write a program that evaluates the power series of \n",
    "## (a) $exp(x) = \\sum_{k=0}^N\\frac{x^k}{k!}$ \n",
    "## (b) $ sin(x) = \\sum_{k=0}^N (-1)^k\\frac{x^{2k+1}}{(2k+1)!}$ \n",
    "## for given $x$ and $N$\n",
    "## Solution: "
   ]
  },
  {
   "cell_type": "code",
   "execution_count": 5,
   "metadata": {},
   "outputs": [
    {
     "name": "stdout",
     "output_type": "stream",
     "text": [
      "exp(1.57) = 4.81 \n",
      "sin(1.57) = 1.00 \n"
     ]
    }
   ],
   "source": [
    "from math import*\n",
    "x = pi/2\n",
    "N = 50\n",
    "Expx = 0\n",
    "Sinx = 0\n",
    "for k in range(0,N+1):\n",
    "    Expx = Expx + x**k/factorial(k)\n",
    "    Sinx = Sinx + (-1)**k*(x**(2*k+1))/factorial(2*k+1)\n",
    "print('exp(%2.2f) = %2.2f '%(x, Expx))    \n",
    "print('sin(%2.2f) = %2.2f '%(x, Sinx))  \n",
    "    "
   ]
  },
  {
   "cell_type": "markdown",
   "metadata": {},
   "source": [
    "<img src=\"img05.JPG\" width=\"700\">"
   ]
  },
  {
   "cell_type": "markdown",
   "metadata": {},
   "source": [
    " ## Solution:"
   ]
  },
  {
   "cell_type": "code",
   "execution_count": 6,
   "metadata": {},
   "outputs": [
    {
     "name": "stdout",
     "output_type": "stream",
     "text": [
      "Fn =  [0, 1, 1, 2, 3, 5, 8, 13, 21, 34, 55, 89]\n"
     ]
    }
   ],
   "source": [
    "N = 11\n",
    "F = [] # storing the Fibonacci numbers in a list\n",
    "for n in range(0, N+1):\n",
    "    if n == 0:\n",
    "        F.append(0)\n",
    "    elif n == 1:\n",
    "        F.append(1)\n",
    "    else:\n",
    "        F.append(F[n-1]+F[n-2])\n",
    "print('Fn = ', F)    "
   ]
  },
  {
   "cell_type": "markdown",
   "metadata": {},
   "source": [
    "<img src=\"img06.JPG\" width=\"700\">"
   ]
  },
  {
   "cell_type": "markdown",
   "metadata": {},
   "source": [
    "## Solution: "
   ]
  },
  {
   "cell_type": "code",
   "execution_count": 7,
   "metadata": {},
   "outputs": [
    {
     "data": {
      "image/png": "[encoded data removed]",
      "text/plain": [
       "<Figure size 432x288 with 1 Axes>"
      ]
     },
     "metadata": {
      "needs_background": "light"
     },
     "output_type": "display_data"
    }
   ],
   "source": [
    "from math import*\n",
    "from matplotlib.pyplot import*\n",
    "X = []\n",
    "Y = []\n",
    "x = -5\n",
    "dx = 0.1\n",
    "while x<=20:\n",
    "    if x <= 0:\n",
    "        y = -x + 1\n",
    "        Y.append(round(y,2))\n",
    "    elif 0 < x <= 3*pi:\n",
    "        y = x*sin(x) + 1\n",
    "        Y.append(round(y,2))\n",
    "    else:\n",
    "        y = -(x -3*pi) + 1\n",
    "        Y.append(round(y,2))\n",
    "    X.append(round(x,2))\n",
    "    x = x + dx\n",
    "plot(X,Y,'r',linewidth = 3.0)\n",
    "xlabel('x-value')\n",
    "ylabel('y-value')\n",
    "title('Plot of piecewise functions')\n",
    "show()"
   ]
  }
 ],
 "metadata": {
  "kernelspec": {
   "display_name": "Python 3",
   "language": "python",
   "name": "python3"
  },
  "language_info": {
   "codemirror_mode": {
    "name": "ipython",
    "version": 3
   },
   "file_extension": ".py",
   "mimetype": "text/x-python",
   "name": "python",
   "nbconvert_exporter": "python",
   "pygments_lexer": "ipython3",
   "version": "3.7.6"
  }
 },
 "nbformat": 4,
 "nbformat_minor": 4
}
